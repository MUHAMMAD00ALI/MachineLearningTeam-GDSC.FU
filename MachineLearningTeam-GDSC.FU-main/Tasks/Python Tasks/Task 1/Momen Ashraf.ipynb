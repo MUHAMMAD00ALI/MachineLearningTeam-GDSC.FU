{
 "cells": [
  {
   "cell_type": "markdown",
   "id": "db3924e1",
   "metadata": {},
   "source": [
    "## section 1:"
   ]
  },
  {
   "cell_type": "code",
   "execution_count": 3,
   "id": "4263abe7",
   "metadata": {},
   "outputs": [
    {
     "name": "stdout",
     "output_type": "stream",
     "text": [
      "x = 7\n"
     ]
    }
   ],
   "source": [
    "x = 7\n",
    "print(f\"x = {x}\")"
   ]
  },
  {
   "cell_type": "code",
   "execution_count": 9,
   "id": "74db0efb",
   "metadata": {},
   "outputs": [
    {
     "name": "stdout",
     "output_type": "stream",
     "text": [
      "Here we go!\n"
     ]
    }
   ],
   "source": [
    "Str = \"Here we go!\"\n",
    "print (Str)"
   ]
  },
  {
   "cell_type": "code",
   "execution_count": 5,
   "id": "2d8b9e12",
   "metadata": {},
   "outputs": [
    {
     "name": "stdout",
     "output_type": "stream",
     "text": [
      "True\n"
     ]
    }
   ],
   "source": [
    "bool_var = True\n",
    "print(bool_var)"
   ]
  },
  {
   "cell_type": "code",
   "execution_count": 6,
   "id": "6c4775f0",
   "metadata": {},
   "outputs": [
    {
     "name": "stdout",
     "output_type": "stream",
     "text": [
      "<class 'int'>\n"
     ]
    }
   ],
   "source": [
    "answer_1 = 15\n",
    "print(type(answer_1))"
   ]
  },
  {
   "cell_type": "code",
   "execution_count": 8,
   "id": "707b4da5",
   "metadata": {},
   "outputs": [
    {
     "name": "stdout",
     "output_type": "stream",
     "text": [
      "<class 'str'>\n"
     ]
    }
   ],
   "source": [
    "answer_2 = \"Hallo\"\n",
    "print(type(answer_2))"
   ]
  },
  {
   "cell_type": "code",
   "execution_count": 16,
   "id": "0790157a",
   "metadata": {},
   "outputs": [
    {
     "name": "stdout",
     "output_type": "stream",
     "text": [
      "<class 'float'> \n",
      " <class 'str'> \n",
      " <class 'list'> \n",
      " <class 'set'> \n",
      " <class 'str'>\n"
     ]
    }
   ],
   "source": [
    "f = 12.3\n",
    "Str  = \"Welcome\"\n",
    "List = [1,2,3]\n",
    "Set  =  {1,2,3}\n",
    "Num =  \"123\"\n",
    "print(type(f),'\\n',type(Str),'\\n',type(List),'\\n',type(Set),'\\n',type(Num))"
   ]
  },
  {
   "cell_type": "markdown",
   "id": "171bdedd",
   "metadata": {},
   "source": [
    "## section 2:"
   ]
  },
  {
   "cell_type": "code",
   "execution_count": 1,
   "id": "a847624b",
   "metadata": {},
   "outputs": [
    {
     "name": "stdout",
     "output_type": "stream",
     "text": [
      "AuKellylt\n"
     ]
    }
   ],
   "source": [
    "s1 = \"Ault\"; s2 = \"Kelly\"\n",
    "print(s1[0:2] + s2 + s1[-2:])"
   ]
  },
  {
   "cell_type": "code",
   "execution_count": 1,
   "id": "d72e5e87",
   "metadata": {},
   "outputs": [
    {
     "name": "stdout",
     "output_type": "stream",
     "text": [
      "Enter sentence to reverse: Hola\n",
      "aloH\n"
     ]
    }
   ],
   "source": [
    "s = input(\"Enter sentence to reverse: \")\n",
    "print(\"\".join(reversed(s)))"
   ]
  },
  {
   "cell_type": "code",
   "execution_count": 30,
   "id": "217097cb",
   "metadata": {},
   "outputs": [
    {
     "name": "stdout",
     "output_type": "stream",
     "text": [
      "Enter char to check if string start with it or not: M\n",
      "Yes\n"
     ]
    }
   ],
   "source": [
    "word = \"Moon\"\n",
    "c = input(\"Enter char to check if string start with it or not: \")\n",
    "if word[0] == c:\n",
    "    print(\"Yes\")\n",
    "else :\n",
    "     print(\"No\")"
   ]
  },
  {
   "cell_type": "code",
   "execution_count": 11,
   "id": "01f9da09",
   "metadata": {},
   "outputs": [
    {
     "name": "stdout",
     "output_type": "stream",
     "text": [
      "H\n",
      "llo\n",
      "HELLO WORLD\n",
      "hello world\n"
     ]
    }
   ],
   "source": [
    "txt = \"Hello World\"\n",
    "print(txt[0])\n",
    "print(txt[2:5])\n",
    "print(txt.upper())\n",
    "print(txt.lower())"
   ]
  },
  {
   "cell_type": "markdown",
   "id": "1caddabc",
   "metadata": {},
   "source": [
    "## section 3:  "
   ]
  },
  {
   "cell_type": "code",
   "execution_count": 5,
   "id": "7755a3c2",
   "metadata": {},
   "outputs": [
    {
     "name": "stdout",
     "output_type": "stream",
     "text": [
      "[500, 400, 300, 200, 100]\n"
     ]
    }
   ],
   "source": [
    "list1 = [100, 200, 300, 400, 500]\n",
    "print(list1[::-1])"
   ]
  },
  {
   "cell_type": "code",
   "execution_count": 11,
   "id": "b1e5ebb5",
   "metadata": {},
   "outputs": [
    {
     "name": "stdout",
     "output_type": "stream",
     "text": [
      "banana\n",
      "cherry\n"
     ]
    }
   ],
   "source": [
    "fruits = [\"apple\", \"banana\", \"cherry\"]\n",
    "print(fruits[1])\n",
    "fruits[0] = 'kiwi'\n",
    "fruits.insert(2,'lemon')\n",
    "print(fruits[-1])"
   ]
  },
  {
   "cell_type": "code",
   "execution_count": 23,
   "id": "975e6d95",
   "metadata": {},
   "outputs": [
    {
     "name": "stdout",
     "output_type": "stream",
     "text": [
      "['cherry', 'orange', 'kiwi']\n"
     ]
    }
   ],
   "source": [
    "fruits = [\"apple\", \"banana\", \"cherry\", \"orange\", \"kiwi\", \"melon\", \"mango\"]\n",
    "print(fruits[2:5])        "
   ]
  },
  {
   "cell_type": "code",
   "execution_count": 85,
   "id": "7b5c3a47",
   "metadata": {},
   "outputs": [
    {
     "name": "stdout",
     "output_type": "stream",
     "text": [
      "['a', 'b', ['c', ['d', 'e', ['f', 'g'], 'k'], 'l'], 'h', 'i', 'j', 'm', 'n']\n"
     ]
    }
   ],
   "source": [
    "list1 = [\"a\", \"b\", [\"c\", [\"d\", \"e\", [\"f\", \"g\"], \"k\"], \"l\"], \"m\", \"n\"]\n",
    "sub_list = [\"h\", \"i\", \"j\"]\n",
    "list1.extend(sub_list)\n",
    "list1.sort(key=lambda list1: list1[0])\n",
    "print(list1)"
   ]
  }
 ],
 "metadata": {
  "kernelspec": {
   "display_name": "Python 3 (ipykernel)",
   "language": "python",
   "name": "python3"
  },
  "language_info": {
   "codemirror_mode": {
    "name": "ipython",
    "version": 3
   },
   "file_extension": ".py",
   "mimetype": "text/x-python",
   "name": "python",
   "nbconvert_exporter": "python",
   "pygments_lexer": "ipython3",
   "version": "3.9.13"
  }
 },
 "nbformat": 4,
 "nbformat_minor": 5
}
