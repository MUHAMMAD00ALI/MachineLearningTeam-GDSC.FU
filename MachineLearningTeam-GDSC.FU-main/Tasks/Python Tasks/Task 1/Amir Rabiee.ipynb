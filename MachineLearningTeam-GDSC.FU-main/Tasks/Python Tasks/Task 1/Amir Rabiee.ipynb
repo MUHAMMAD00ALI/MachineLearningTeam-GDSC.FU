{
 "cells": [
  {
   "cell_type": "code",
   "execution_count": 1,
   "id": "53bcb176",
   "metadata": {},
   "outputs": [
    {
     "name": "stdout",
     "output_type": "stream",
     "text": [
      "5\n"
     ]
    }
   ],
   "source": [
    "#section1 Question1\n",
    "x=5\n",
    "print(x)"
   ]
  },
  {
   "cell_type": "code",
   "execution_count": 2,
   "id": "6c8dd235",
   "metadata": {},
   "outputs": [
    {
     "name": "stdout",
     "output_type": "stream",
     "text": [
      "Hello Amir!\n"
     ]
    }
   ],
   "source": [
    "#section1 Question2\n",
    "y=\"Hello Amir!\"\n",
    "print(y)"
   ]
  },
  {
   "cell_type": "code",
   "execution_count": 3,
   "id": "0417cb2f",
   "metadata": {},
   "outputs": [
    {
     "data": {
      "text/plain": [
       "bool"
      ]
     },
     "execution_count": 3,
     "metadata": {},
     "output_type": "execute_result"
    }
   ],
   "source": [
    "#section1 #Question3\n",
    "a = True\n",
    "type(a)"
   ]
  },
  {
   "cell_type": "code",
   "execution_count": 4,
   "id": "65dfce94",
   "metadata": {},
   "outputs": [
    {
     "data": {
      "text/plain": [
       "int"
      ]
     },
     "execution_count": 4,
     "metadata": {},
     "output_type": "execute_result"
    }
   ],
   "source": [
    "#section1 #Question4\n",
    "answer_1=15\n",
    "type(answer_1)"
   ]
  },
  {
   "cell_type": "code",
   "execution_count": 5,
   "id": "2ab73116",
   "metadata": {},
   "outputs": [
    {
     "data": {
      "text/plain": [
       "str"
      ]
     },
     "execution_count": 5,
     "metadata": {},
     "output_type": "execute_result"
    }
   ],
   "source": [
    "#section1 #Question5\n",
    "answer_2=\"Hello\"\n",
    "type(answer_2)"
   ]
  },
  {
   "cell_type": "code",
   "execution_count": 6,
   "id": "609783c6",
   "metadata": {},
   "outputs": [
    {
     "name": "stdout",
     "output_type": "stream",
     "text": [
      "<class 'float'>\n",
      "<class 'str'>\n",
      "<class 'list'>\n",
      "<class 'set'>\n",
      "<class 'str'>\n"
     ]
    }
   ],
   "source": [
    "#section1 #Question6\n",
    "x=12.3\n",
    "y=\"welcome\"\n",
    "z=[1,2,3]\n",
    "k={1,2,3}\n",
    "f=\"123\"\n",
    "\n",
    "print(type(x))\n",
    "print(type(y))\n",
    "print(type(z))\n",
    "print(type(k))\n",
    "print(type(f))"
   ]
  },
  {
   "cell_type": "code",
   "execution_count": 40,
   "id": "3b5c1c40",
   "metadata": {},
   "outputs": [
    {
     "name": "stdout",
     "output_type": "stream",
     "text": [
      "New string in middle: AuKellylt\n"
     ]
    }
   ],
   "source": [
    "#section2 Question1\n",
    "s1=\"Ault\"\n",
    "s2=\"Kelly\"\n",
    "mi=int(len(s1) / 2)\n",
    "x = s1[:mi:]\n",
    "x = x + s2\n",
    "x = x + s1[mi:]\n",
    "print(\"New string in middle:\", x)\n"
   ]
  },
  {
   "cell_type": "code",
   "execution_count": 2,
   "id": "def85e6b",
   "metadata": {},
   "outputs": [
    {
     "name": "stdout",
     "output_type": "stream",
     "text": [
      "enter a sentense\n",
      "Hello\n",
      "olleH\n"
     ]
    }
   ],
   "source": [
    "#section2 Question2\n",
    "x=input(\"enter a sentense\\n\")[::-1]\n",
    "print(x)"
   ]
  },
  {
   "cell_type": "code",
   "execution_count": 31,
   "id": "0675fd64",
   "metadata": {},
   "outputs": [
    {
     "name": "stdout",
     "output_type": "stream",
     "text": [
      "Enter a charcterh\n",
      "char in first of string\n"
     ]
    }
   ],
   "source": [
    "#section2 Question3\n",
    "x=\"hello world\"\n",
    "z=input(\"Enter a character\")\n",
    "y=x.rfind(z)\n",
    "if y==0:\n",
    "  print(\"character in first of string\")\n",
    "else:\n",
    "  print(\"character not in first of string\")"
   ]
  },
  {
   "cell_type": "code",
   "execution_count": 26,
   "id": "6fa8c60f",
   "metadata": {},
   "outputs": [
    {
     "data": {
      "text/plain": [
       "'H'"
      ]
     },
     "execution_count": 26,
     "metadata": {},
     "output_type": "execute_result"
    }
   ],
   "source": [
    "#section2 Question4\n",
    "txt = \"Hello World\"\n",
    "txt[0:1]"
   ]
  },
  {
   "cell_type": "code",
   "execution_count": 15,
   "id": "51fb9b96",
   "metadata": {},
   "outputs": [
    {
     "data": {
      "text/plain": [
       "'llo'"
      ]
     },
     "execution_count": 15,
     "metadata": {},
     "output_type": "execute_result"
    }
   ],
   "source": [
    "#section2 Question5\n",
    "txt = \"Hello World\"\n",
    "txt[2:5]"
   ]
  },
  {
   "cell_type": "code",
   "execution_count": 12,
   "id": "765de12d",
   "metadata": {},
   "outputs": [
    {
     "data": {
      "text/plain": [
       "'HELLO WORLD'"
      ]
     },
     "execution_count": 12,
     "metadata": {},
     "output_type": "execute_result"
    }
   ],
   "source": [
    "#section2 Question6\n",
    "txt.upper()"
   ]
  },
  {
   "cell_type": "code",
   "execution_count": 13,
   "id": "e98bf905",
   "metadata": {},
   "outputs": [
    {
     "data": {
      "text/plain": [
       "'hello world'"
      ]
     },
     "execution_count": 13,
     "metadata": {},
     "output_type": "execute_result"
    }
   ],
   "source": [
    "#section2 Question7\n",
    "txt.lower()"
   ]
  },
  {
   "cell_type": "code",
   "execution_count": 2,
   "id": "ff90cf2c",
   "metadata": {},
   "outputs": [
    {
     "name": "stdout",
     "output_type": "stream",
     "text": [
      "[500, 400, 300, 200, 100]\n"
     ]
    }
   ],
   "source": [
    "#section3 Question1\n",
    "list1 = [100, 200, 300, 400, 500]\n",
    "list1.reverse()\n",
    "print(list1)"
   ]
  },
  {
   "cell_type": "code",
   "execution_count": 3,
   "id": "7f8cf395",
   "metadata": {},
   "outputs": [
    {
     "data": {
      "text/plain": [
       "'banana'"
      ]
     },
     "execution_count": 3,
     "metadata": {},
     "output_type": "execute_result"
    }
   ],
   "source": [
    "#section3 Question2\n",
    "fruits = [\"apple\", \"banana\", \"cherry\"]\n",
    "fruits[1]"
   ]
  },
  {
   "cell_type": "code",
   "execution_count": 8,
   "id": "6b145b8b",
   "metadata": {},
   "outputs": [
    {
     "name": "stdout",
     "output_type": "stream",
     "text": [
      "['kiwi', 'banana', 'cherry']\n"
     ]
    }
   ],
   "source": [
    "#section3 Question3\n",
    "fruits = [\"apple\", \"banana\", \"cherry\"]\n",
    "fruits[0]=\"kiwi\"\n",
    "print(fruits)"
   ]
  },
  {
   "cell_type": "code",
   "execution_count": 4,
   "id": "3959adec",
   "metadata": {},
   "outputs": [
    {
     "name": "stdout",
     "output_type": "stream",
     "text": [
      "['apple', 'lemon', 'banana', 'cherry']\n"
     ]
    }
   ],
   "source": [
    "#section3 Question4\n",
    "fruits = [\"apple\", \"banana\", \"cherry\"]\n",
    "fruits.insert(1,\"lemon\")\n",
    "print(fruits)"
   ]
  },
  {
   "cell_type": "code",
   "execution_count": 8,
   "id": "0c892a21",
   "metadata": {},
   "outputs": [
    {
     "data": {
      "text/plain": [
       "'cherry'"
      ]
     },
     "execution_count": 8,
     "metadata": {},
     "output_type": "execute_result"
    }
   ],
   "source": [
    "#section3 Question5\n",
    "fruits = [\"apple\", \"banana\", \"cherry\"]\n",
    "fruits[-1]"
   ]
  },
  {
   "cell_type": "code",
   "execution_count": 12,
   "id": "3353ed07",
   "metadata": {},
   "outputs": [
    {
     "data": {
      "text/plain": [
       "['cherry', 'orange', 'kiwi']"
      ]
     },
     "execution_count": 12,
     "metadata": {},
     "output_type": "execute_result"
    }
   ],
   "source": [
    "#section3 Question6\n",
    "fruits = [\"apple\", \"banana\", \"cherry\", \"orange\", \"kiwi\", \"melon\", \"mango\"]\n",
    "fruits[2:5]"
   ]
  },
  {
   "cell_type": "code",
   "execution_count": null,
   "id": "8208fb2a",
   "metadata": {},
   "outputs": [],
   "source": [
    "#section3 Question7 \n",
    "list = [\"a\", \"b\", [\"c\", [\"d\", \"e\", [\"f\", \"g\"], \"k\"], \"l\"], \"m\", \"n\"]\n",
    "list.insert()"
   ]
  }
 ],
 "metadata": {
  "kernelspec": {
   "display_name": "Python 3 (ipykernel)",
   "language": "python",
   "name": "python3"
  },
  "language_info": {
   "codemirror_mode": {
    "name": "ipython",
    "version": 3
   },
   "file_extension": ".py",
   "mimetype": "text/x-python",
   "name": "python",
   "nbconvert_exporter": "python",
   "pygments_lexer": "ipython3",
   "version": "3.9.13"
  }
 },
 "nbformat": 4,
 "nbformat_minor": 5
}
