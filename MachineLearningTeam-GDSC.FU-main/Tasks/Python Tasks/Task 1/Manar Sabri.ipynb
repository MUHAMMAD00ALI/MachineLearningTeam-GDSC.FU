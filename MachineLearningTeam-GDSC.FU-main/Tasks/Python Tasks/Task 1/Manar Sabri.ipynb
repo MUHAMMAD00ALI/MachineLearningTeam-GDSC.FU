{
 "cells": [
  {
   "cell_type": "code",
   "execution_count": 1,
   "id": "598f8dae",
   "metadata": {},
   "outputs": [
    {
     "name": "stdout",
     "output_type": "stream",
     "text": [
      "The Value of X =  500\n"
     ]
    }
   ],
   "source": [
    "#SECTION 1\n",
    "#1\n",
    "X = 500\n",
    "print(\"The Value of X = \",X)"
   ]
  },
  {
   "cell_type": "code",
   "execution_count": 2,
   "id": "57b8f548",
   "metadata": {},
   "outputs": [
    {
     "name": "stdout",
     "output_type": "stream",
     "text": [
      "Remember why u started...\n"
     ]
    }
   ],
   "source": [
    "#2\n",
    "Y = \"Remember why u started...\"\n",
    "print(Y)\n"
   ]
  },
  {
   "cell_type": "code",
   "execution_count": 6,
   "id": "c621458c",
   "metadata": {},
   "outputs": [
    {
     "name": "stdout",
     "output_type": "stream",
     "text": [
      "Boolen :  True\n"
     ]
    }
   ],
   "source": [
    "#3\n",
    "Z = True\n",
    "print(\"Boolen : \" , Z)\n"
   ]
  },
  {
   "cell_type": "code",
   "execution_count": 9,
   "id": "fdad391b",
   "metadata": {},
   "outputs": [
    {
     "data": {
      "text/plain": [
       "int"
      ]
     },
     "execution_count": 9,
     "metadata": {},
     "output_type": "execute_result"
    }
   ],
   "source": [
    "#4\n",
    "type(15)"
   ]
  },
  {
   "cell_type": "code",
   "execution_count": 11,
   "id": "e0ebc54b",
   "metadata": {},
   "outputs": [
    {
     "data": {
      "text/plain": [
       "str"
      ]
     },
     "execution_count": 11,
     "metadata": {},
     "output_type": "execute_result"
    }
   ],
   "source": [
    "#4.1\n",
    "type(\"Hello\")"
   ]
  },
  {
   "cell_type": "code",
   "execution_count": 15,
   "id": "749dfe2d",
   "metadata": {},
   "outputs": [
    {
     "data": {
      "text/plain": [
       "str"
      ]
     },
     "execution_count": 15,
     "metadata": {},
     "output_type": "execute_result"
    }
   ],
   "source": [
    "#4.2\n",
    "a = 12.3\n",
    "type(a)"
   ]
  },
  {
   "cell_type": "code",
   "execution_count": 19,
   "id": "d5a073b3",
   "metadata": {},
   "outputs": [
    {
     "data": {
      "text/plain": [
       "str"
      ]
     },
     "execution_count": 19,
     "metadata": {},
     "output_type": "execute_result"
    }
   ],
   "source": [
    "#4.3\n",
    "b = \"Welcome\"\n",
    "type(b)"
   ]
  },
  {
   "cell_type": "code",
   "execution_count": 18,
   "id": "c5447aef",
   "metadata": {},
   "outputs": [
    {
     "data": {
      "text/plain": [
       "list"
      ]
     },
     "execution_count": 18,
     "metadata": {},
     "output_type": "execute_result"
    }
   ],
   "source": [
    "#4.4\n",
    "c = [1,2,3]\n",
    "type (c)"
   ]
  },
  {
   "cell_type": "code",
   "execution_count": 16,
   "id": "4a1bf15b",
   "metadata": {},
   "outputs": [
    {
     "data": {
      "text/plain": [
       "set"
      ]
     },
     "execution_count": 16,
     "metadata": {},
     "output_type": "execute_result"
    }
   ],
   "source": [
    "#4.5\n",
    "d = {1,2,3}\n",
    "type(d)"
   ]
  },
  {
   "cell_type": "code",
   "execution_count": 17,
   "id": "9cd662d2",
   "metadata": {},
   "outputs": [
    {
     "data": {
      "text/plain": [
       "str"
      ]
     },
     "execution_count": 17,
     "metadata": {},
     "output_type": "execute_result"
    }
   ],
   "source": [
    "#4.6\n",
    "e = \"1,2,3\"\n",
    "type(e)"
   ]
  },
  {
   "cell_type": "code",
   "execution_count": null,
   "id": "389d4db4",
   "metadata": {},
   "outputs": [],
   "source": [
    "#SECTION 2\n",
    "#1\n",
    "S1 = \"Ault\"\n",
    "S2 = \"Kelly\"\n",
    "m = int(len(S1) / 2)\n",
    "S3 = S1[:m:]\n",
    "S3 = S3 + S2\n",
    "S3 = S3 + S1[m:]\n",
    "print(x)"
   ]
  },
  {
   "cell_type": "code",
   "execution_count": null,
   "id": "a98bf262",
   "metadata": {},
   "outputs": [],
   "source": [
    "#2\n",
    "inp = input(\"Enter sentence : \")\n",
    "print(inp)\n",
    "i = inp.split(' ')\n",
    "print(i)\n",
    "reverse_i = ' '.join(reversed(i))\n",
    "print(\"Reversed Sentence : \",reverse_i)"
   ]
  },
  {
   "cell_type": "code",
   "execution_count": null,
   "id": "c3006fc5",
   "metadata": {},
   "outputs": [],
   "source": [
    "#3\n",
    "inp = input(\"Enter String : \")\n",
    "arr = [\"M\"]\n",
    "new_arr = []\n",
    "for i in arr:\n",
    "    if(inp.find(i)>0):\n",
    "        new_arr.append(1)\n",
    "    else:\n",
    "        new_arr.append(0)\n",
    "print(new_arr)"
   ]
  },
  {
   "cell_type": "code",
   "execution_count": null,
   "id": "6ae99d58",
   "metadata": {},
   "outputs": [],
   "source": [
    "#4\n",
    "arr = \"Hello World\"\n",
    "print(arr[0])"
   ]
  },
  {
   "cell_type": "code",
   "execution_count": null,
   "id": "756b6fd2",
   "metadata": {},
   "outputs": [],
   "source": [
    "#4.1\n",
    "new_arr = arr.replace(arr[2:4],arr[2])\n",
    "print(new_arr)"
   ]
  },
  {
   "cell_type": "code",
   "execution_count": null,
   "id": "000f6e11",
   "metadata": {},
   "outputs": [],
   "source": [
    "#4.2\n",
    "up = arr.upper()\n",
    "print(up)"
   ]
  },
  {
   "cell_type": "code",
   "execution_count": null,
   "id": "d5a485f9",
   "metadata": {},
   "outputs": [],
   "source": [
    "#4.3\n",
    "low = arr.lower()\n",
    "print(low)"
   ]
  },
  {
   "cell_type": "code",
   "execution_count": 1,
   "id": "a2140426",
   "metadata": {},
   "outputs": [],
   "source": [
    "#SECTION3\n",
    "#1\n",
    "list1 = [100, 200, 300, 400, 500]\n",
    "list1.reverse()\n",
    "print(list1)"
   ]
  },
  {
   "cell_type": "code",
   "execution_count": null,
   "id": "0b4014cf",
   "metadata": {},
   "outputs": [],
   "source": [
    "#2\n",
    "fruits = [\"apple\", \"banana\", \"cherry\"]\n",
    "print(fruits[1])\n"
   ]
  },
  {
   "cell_type": "code",
   "execution_count": null,
   "id": "aaa5bee6",
   "metadata": {},
   "outputs": [],
   "source": [
    "#2.1\n",
    "fruits[0] = \"Kwi\"\n",
    "print(fruits)"
   ]
  },
  {
   "cell_type": "code",
   "execution_count": null,
   "id": "9c6346f7",
   "metadata": {},
   "outputs": [],
   "source": [
    "#2.2\n",
    "fruits = [\"apple\", \"banana\", \"cherry\"]\n",
    "fruits.insert(0,\"Lemon\")\n",
    "print(fruits)"
   ]
  },
  {
   "cell_type": "code",
   "execution_count": null,
   "id": "47c2d549",
   "metadata": {},
   "outputs": [],
   "source": [
    "#2.3\n",
    "print(\"The lats item in list is \",fruits[-1])\n"
   ]
  },
  {
   "cell_type": "code",
   "execution_count": null,
   "id": "b151fa2f",
   "metadata": {},
   "outputs": [],
   "source": [
    "#3\n",
    "fruits = [\"apple\", \"banana\", \"cherry\", \"orange\", \"kiwi\", \"melon\", \"mango\"]\n",
    "print(fruits[2:5])"
   ]
  },
  {
   "cell_type": "code",
   "execution_count": null,
   "id": "0e100a9b",
   "metadata": {},
   "outputs": [],
   "source": [
    "#4\n",
    "list1 = [\"a\", \"b\", [\"c\", [\"d\", \"e\", [\"f\", \"g\"], \"k\"], \"l\"], \"m\", \"n\"]\n",
    "sub_list = [\"h\", \"i\", \"j\"] \n",
    "list1[2][1][2].extend(sub_list)\n",
    "print(list1)"
   ]
  }
 ],
 "metadata": {
  "kernelspec": {
   "display_name": "Python 3 (ipykernel)",
   "language": "python",
   "name": "python3"
  },
  "language_info": {
   "codemirror_mode": {
    "name": "ipython",
    "version": 3
   },
   "file_extension": ".py",
   "mimetype": "text/x-python",
   "name": "python",
   "nbconvert_exporter": "python",
   "pygments_lexer": "ipython3",
   "version": "3.9.13"
  }
 },
 "nbformat": 4,
 "nbformat_minor": 5
}
