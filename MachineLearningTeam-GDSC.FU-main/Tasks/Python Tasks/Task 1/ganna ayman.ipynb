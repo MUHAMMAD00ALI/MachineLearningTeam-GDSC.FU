{
 "cells": [
  {
   "cell_type": "markdown",
   "id": "06ead654",
   "metadata": {},
   "source": [
    "##section 1"
   ]
  },
  {
   "cell_type": "code",
   "execution_count": 2,
   "id": "abe809f8",
   "metadata": {},
   "outputs": [
    {
     "name": "stdout",
     "output_type": "stream",
     "text": [
      "first task\n"
     ]
    }
   ],
   "source": [
    "#2\n",
    "z = \"first task\"\n",
    "print(z)"
   ]
  },
  {
   "cell_type": "code",
   "execution_count": 5,
   "id": "37f09eb9",
   "metadata": {},
   "outputs": [
    {
     "name": "stdout",
     "output_type": "stream",
     "text": [
      "True\n"
     ]
    }
   ],
   "source": [
    "#3\n",
    "y = True\n",
    "print(y)"
   ]
  },
  {
   "cell_type": "code",
   "execution_count": 7,
   "id": "00fae1f0",
   "metadata": {},
   "outputs": [
    {
     "data": {
      "text/plain": [
       "int"
      ]
     },
     "execution_count": 7,
     "metadata": {},
     "output_type": "execute_result"
    }
   ],
   "source": [
    "#4\n",
    "type(x)"
   ]
  },
  {
   "cell_type": "code",
   "execution_count": 13,
   "id": "d813d047",
   "metadata": {},
   "outputs": [
    {
     "data": {
      "text/plain": [
       "str"
      ]
     },
     "execution_count": 13,
     "metadata": {},
     "output_type": "execute_result"
    }
   ],
   "source": [
    "#5\n",
    "answer_2 = \"hallo\"\n",
    "type(answer_2)"
   ]
  },
  {
   "cell_type": "code",
   "execution_count": 11,
   "id": "54604be3",
   "metadata": {},
   "outputs": [
    {
     "name": "stdout",
     "output_type": "stream",
     "text": [
      "<class 'float'>\n",
      "<class 'str'>\n",
      "<class 'list'>\n",
      "<class 'set'>\n",
      "<class 'str'>\n"
     ]
    }
   ],
   "source": [
    "#6\n",
    "v1 = 12.3\n",
    "print(type(v1))\n",
    "v1 = \"welcome\"\n",
    "print(type(v1))\n",
    "v1 = [1,2,3]\n",
    "print(type(v1))\n",
    "v1 = {1,2,3}\n",
    "print(type(v1))\n",
    "v1 = \"123\"\n",
    "print(type(v1))"
   ]
  },
  {
   "cell_type": "markdown",
   "id": "37d4ceed",
   "metadata": {},
   "source": [
    "##section 2"
   ]
  },
  {
   "cell_type": "code",
   "execution_count": 23,
   "id": "5d5be978",
   "metadata": {},
   "outputs": [
    {
     "name": "stdout",
     "output_type": "stream",
     "text": [
      "AuKellylt\n"
     ]
    }
   ],
   "source": [
    "s1 = \"Ault\"\n",
    "s2 = \"Kelly\"\n",
    "s1 = s1[0:2]+s2+s1[2:]\n",
    "print(s1)"
   ]
  },
  {
   "cell_type": "code",
   "execution_count": 66,
   "id": "374ae19f",
   "metadata": {},
   "outputs": [
    {
     "name": "stdout",
     "output_type": "stream",
     "text": [
      "ganna ayman\n"
     ]
    }
   ],
   "source": [
    "n = input()"
   ]
  },
  {
   "cell_type": "code",
   "execution_count": 74,
   "id": "7374f2cb",
   "metadata": {},
   "outputs": [
    {
     "name": "stdout",
     "output_type": "stream",
     "text": [
      "ayman ganna\n"
     ]
    }
   ],
   "source": [
    "n1 = n.split()\n",
    "n1 = reversed(n1)\n",
    "print(\" \".join(n1))"
   ]
  },
  {
   "cell_type": "code",
   "execution_count": 82,
   "id": "15631493",
   "metadata": {},
   "outputs": [
    {
     "data": {
      "text/plain": [
       "['ayman', 'ganna']"
      ]
     },
     "execution_count": 82,
     "metadata": {},
     "output_type": "execute_result"
    }
   ],
   "source": [
    "li = ['ganna','ayman']\n",
    "li.reverse()\n",
    "li"
   ]
  },
  {
   "cell_type": "code",
   "execution_count": 84,
   "id": "9cfa3a67",
   "metadata": {},
   "outputs": [
    {
     "name": "stdout",
     "output_type": "stream",
     "text": [
      "M\n"
     ]
    },
    {
     "data": {
      "text/plain": [
       "False"
      ]
     },
     "execution_count": 84,
     "metadata": {},
     "output_type": "execute_result"
    }
   ],
   "source": [
    "char = input()\n",
    "st = \"my name is gana\"\n",
    "st[0] == char"
   ]
  },
  {
   "cell_type": "code",
   "execution_count": 90,
   "id": "23687a55",
   "metadata": {},
   "outputs": [
    {
     "name": "stdout",
     "output_type": "stream",
     "text": [
      "first cahracter is: h\n",
      "character from 2 to 4: llo\n",
      "HELLO WORLD\n",
      "hello world\n"
     ]
    }
   ],
   "source": [
    "txt = \"hello world\"\n",
    "print(\"first cahracter is: \" +txt[0])\n",
    "print(\"character from 2 to 4: \" +txt[2:5])\n",
    "print(txt.upper())\n",
    "print(txt.lower())"
   ]
  },
  {
   "cell_type": "markdown",
   "id": "9ac2537f",
   "metadata": {},
   "source": [
    "##section 3"
   ]
  },
  {
   "cell_type": "code",
   "execution_count": 92,
   "id": "ba17da40",
   "metadata": {},
   "outputs": [
    {
     "data": {
      "text/plain": [
       "[500, 400, 300, 200, 100]"
      ]
     },
     "execution_count": 92,
     "metadata": {},
     "output_type": "execute_result"
    }
   ],
   "source": [
    "list1 = [100,200,300,400,500]\n",
    "list1.reverse()\n",
    "list1"
   ]
  },
  {
   "cell_type": "code",
   "execution_count": 102,
   "id": "579c05f2",
   "metadata": {},
   "outputs": [
    {
     "name": "stdout",
     "output_type": "stream",
     "text": [
      "banana\n",
      "['kiwi', 'banana', 'cherry']\n",
      "['kiwi', 'lemon', 'banana', 'cherry']\n",
      "cherry\n"
     ]
    }
   ],
   "source": [
    "fruits = [\"apple\", \"banana\", \"cherry\"]\n",
    "print(fruits[1])\n",
    "fruits[0] = \"kiwi\"\n",
    "print(fruits)\n",
    "fruits.insert(1,\"lemon\")\n",
    "print(fruits)\n",
    "print(fruits[-1])"
   ]
  },
  {
   "cell_type": "code",
   "execution_count": 104,
   "id": "0b4977e2",
   "metadata": {},
   "outputs": [
    {
     "name": "stdout",
     "output_type": "stream",
     "text": [
      "['orange', 'kiwi', 'melon']\n"
     ]
    }
   ],
   "source": [
    "fruits = [\"apple\", \"banana\", \"cherry\", \"orange\", \"kiwi\", \"melon\", \"mango\"]\n",
    "print(fruits[3:6])"
   ]
  },
  {
   "cell_type": "code",
   "execution_count": 128,
   "id": "b82037ce",
   "metadata": {},
   "outputs": [
    {
     "data": {
      "text/plain": [
       "['a', 'b', ['c', ['d', 'e', ['f', 'g', ['h', 'i', 'j']], 'k'], 'l'], 'm', 'n']"
      ]
     },
     "execution_count": 128,
     "metadata": {},
     "output_type": "execute_result"
    }
   ],
   "source": [
    "list1 = [\"a\", \"b\", \n",
    "         [\"c\",\n",
    "          [\"d\", \"e\",\n",
    "           [\"f\", \"g\", ], \"k\"], \"l\"], \"m\", \"n\"]\n",
    "\n",
    "sub_list = [\"h\", \"i\", \"j\"]\n",
    "#list1.insert(2[1[2[1]]],sub_list)\n",
    "list1[2][1][2].append(sub_list)\n",
    "list1"
   ]
  }
 ],
 "metadata": {
  "kernelspec": {
   "display_name": "Python 3 (ipykernel)",
   "language": "python",
   "name": "python3"
  },
  "language_info": {
   "codemirror_mode": {
    "name": "ipython",
    "version": 3
   },
   "file_extension": ".py",
   "mimetype": "text/x-python",
   "name": "python",
   "nbconvert_exporter": "python",
   "pygments_lexer": "ipython3",
   "version": "3.9.13"
  }
 },
 "nbformat": 4,
 "nbformat_minor": 5
}
