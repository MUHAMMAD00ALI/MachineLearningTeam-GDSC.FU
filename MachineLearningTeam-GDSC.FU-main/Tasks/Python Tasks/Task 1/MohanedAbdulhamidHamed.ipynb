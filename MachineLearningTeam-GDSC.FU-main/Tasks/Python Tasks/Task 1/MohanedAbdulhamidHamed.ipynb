{
 "cells": [
  {
   "cell_type": "code",
   "execution_count": 3,
   "metadata": {},
   "outputs": [
    {
     "name": "stdout",
     "output_type": "stream",
     "text": [
      "3\n",
      "hi how are you\n",
      "True\n",
      "<class 'int'>\n",
      "<class 'str'>\n",
      "<class 'float'>\n",
      "<class 'str'>\n",
      "<class 'list'>\n",
      "<class 'set'>\n",
      "<class 'str'>\n"
     ]
    }
   ],
   "source": [
    "#TASK 1\n",
    "# section 1\n",
    "\n",
    "# point 1\n",
    "x=3\n",
    "print(x)\n",
    "\n",
    "# point 2\n",
    "x=\"hi how are you\"\n",
    "print(x)\n",
    "\n",
    "#point 3\n",
    "x=True\n",
    "print(x)\n",
    "\n",
    "print(\"-------------end-------------\")\n",
    "\n",
    "#point 4\n",
    "x=15\n",
    "answer_1=type(x)\n",
    "print(answer_1)\n",
    "\n",
    "#point 5\n",
    "x=\"hallo\"\n",
    "answer_2=type(x)\n",
    "print(answer_2)\n",
    "\n",
    "#point 6\n",
    "v1=12.3\n",
    "v2=\"Welcome\"\n",
    "v3=[1,2,3]\n",
    "v4={1,2,3}\n",
    "v5=\"123\"\n",
    "print(type(v1))\n",
    "print(type(v2))\n",
    "print(type(v3))\n",
    "print(type(v4))\n",
    "print(type(v5))\n"
   ]
  },
  {
   "cell_type": "code",
   "execution_count": 6,
   "metadata": {},
   "outputs": [
    {
     "name": "stdout",
     "output_type": "stream",
     "text": [
      "Aukellylt\n",
      "your sentence after been revesed\n",
      "tahawy mohamed \n",
      "enter the charachter you want to check\n",
      "the first character in the string is : m\n"
     ]
    }
   ],
   "source": [
    "#section 2\n",
    "\n",
    "#appending new string in the middle of astring\n",
    "s1=\"Ault\"\n",
    "s2=\"kelly\"\n",
    "mid_s1=len(s1)//2\n",
    "newstr=s1[:mid_s1]+s2+s1[mid_s1:]\n",
    "print(newstr)\n",
    "\n",
    "print(\"-------------end-------------\")\n",
    "\n",
    "#How to reverse a sentence in Python input by User ?\n",
    "sentence=input()\n",
    "temp=sentence.split(\" \")\n",
    "rev_sent=\"\"\n",
    "for i in temp:\n",
    "    rev_sent=i+\" \"+rev_sent\n",
    "print(\"your sentence after been revesed\")\n",
    "print(rev_sent)\n",
    "\n",
    "print(\"-------------end-------------\")\n",
    "\n",
    "#How to check string start with specific character enter by the user ?\n",
    "print(\"enter the charachter you want to check\")\n",
    "key=input()\n",
    "if (sentence[0]==key):\n",
    "    print(\"the first character in the string is : \"+key)\n",
    "else:\n",
    "    print(\"the first character in the string is not :\"+key)\n",
    "\n",
    "print(\"-------------end-------------\")\n",
    "\n",
    "#point 4\n",
    "txt = \"Hello World\"\n",
    "print(txt[0])#the first char\n",
    "print(txt[2:5])#the characters from index 2 to index 4 (llo)\n",
    "txt=txt.upper()#Convert the value of txt to upper case\n",
    "print(txt)\n",
    "txt=txt.lower()#Convert the value of txt to lower case\n",
    "print(txt)\n",
    "\n"
   ]
  },
  {
   "cell_type": "code",
   "execution_count": 17,
   "metadata": {},
   "outputs": [
    {
     "name": "stdout",
     "output_type": "stream",
     "text": [
      "the list after reversed is :\n",
      "[500, 400, 300, 200, 100]\n",
      "-------------end-------------\n",
      "banana\n",
      "['apple', 'lemon', 'Kiwi', 'cherry']\n",
      "cherry\n",
      "-------------end-------------\n",
      "['cherry', 'orange', 'kiwi']\n",
      "-------------end-------------\n",
      "['a', 'b', ['c', ['d', 'e', ['f', 'g', 'h', 'i', 'j'], 'k'], 'l'], 'm', 'n']\n"
     ]
    }
   ],
   "source": [
    "#section 3\n",
    "#point 1\n",
    "list1 = [100, 200, 300, 400, 500]\n",
    "list1.reverse()\n",
    "print(\"the list after reversed is :\")\n",
    "print(list1)\n",
    "\n",
    "print(\"-------------end-------------\")\n",
    "\n",
    "#point 2\n",
    "fruits = [\"apple\", \"banana\", \"cherry\"]\n",
    "print(fruits[1])\n",
    "fruits[1]=\"Kiwi\"\n",
    "fruits.insert(1,\"lemon\")\n",
    "print(fruits)#to know where we added lemmon\n",
    "print(fruits[-1])\n",
    "\n",
    "print(\"-------------end-------------\")\n",
    "\n",
    "#point 3\n",
    "fruits = [\"apple\", \"banana\", \"cherry\", \"orange\", \"kiwi\", \"melon\", \"mango\"]\n",
    "print(fruits[2:5])\n",
    "\n",
    "print(\"-------------end-------------\")\n",
    "\n",
    "#point 4\n",
    "list1 = [\"a\", \"b\", [\"c\", [\"d\", \"e\", [\"f\", \"g\"], \"k\"], \"l\"], \"m\", \"n\"]\n",
    "sub_list = [\"h\", \"i\", \"j\"]\n",
    "list1[2][1][2]=list1[2][1][2]+sub_list  \n",
    "print(list1)\n",
    "\n",
    "\n",
    "print(\"-------------MT-------------\")\n"
   ]
  }
 ],
 "metadata": {
  "kernelspec": {
   "display_name": "Python 3",
   "language": "python",
   "name": "python3"
  },
  "language_info": {
   "codemirror_mode": {
    "name": "ipython",
    "version": 3
   },
   "file_extension": ".py",
   "mimetype": "text/x-python",
   "name": "python",
   "nbconvert_exporter": "python",
   "pygments_lexer": "ipython3",
   "version": "3.10.5"
  },
  "orig_nbformat": 4,
  "vscode": {
   "interpreter": {
    "hash": "aee8b7b246df8f9039afb4144a1f6fd8d2ca17a180786b69acc140d282b71a49"
   }
  }
 },
 "nbformat": 4,
 "nbformat_minor": 2
}
